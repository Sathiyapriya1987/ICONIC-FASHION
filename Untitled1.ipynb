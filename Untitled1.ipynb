{
  "nbformat": 4,
  "nbformat_minor": 0,
  "metadata": {
    "colab": {
      "provenance": [],
      "authorship_tag": "ABX9TyMpaJYPb6Ol+FCmfPeGgDEK",
      "include_colab_link": true
    },
    "kernelspec": {
      "name": "python3",
      "display_name": "Python 3"
    },
    "language_info": {
      "name": "python"
    }
  },
  "cells": [
    {
      "cell_type": "markdown",
      "metadata": {
        "id": "view-in-github",
        "colab_type": "text"
      },
      "source": [
        "<a href=\"https://colab.research.google.com/github/Sathiyapriya1987/ICONIC-FASHION/blob/main/Untitled1.ipynb\" target=\"_parent\"><img src=\"https://colab.research.google.com/assets/colab-badge.svg\" alt=\"Open In Colab\"/></a>"
      ]
    },
    {
      "cell_type": "code",
      "execution_count": 4,
      "metadata": {
        "id": "VWOJYAKMnhOM"
      },
      "outputs": [],
      "source": [
        "## what is numpy?\n",
        "\n"
      ]
    },
    {
      "cell_type": "code",
      "source": [
        "## pip install Numpy"
      ],
      "metadata": {
        "id": "eqKVKqLq_5eY"
      },
      "execution_count": 6,
      "outputs": []
    },
    {
      "cell_type": "code",
      "source": [
        "%pip install Numpy"
      ],
      "metadata": {
        "colab": {
          "base_uri": "https://localhost:8080/"
        },
        "id": "l2wlSrr9AEEw",
        "outputId": "dd191a46-1b44-4538-90f4-401c80422be8"
      },
      "execution_count": 7,
      "outputs": [
        {
          "output_type": "stream",
          "name": "stdout",
          "text": [
            "Requirement already satisfied: Numpy in /usr/local/lib/python3.12/dist-packages (2.0.2)\n"
          ]
        }
      ]
    },
    {
      "cell_type": "code",
      "source": [
        "import numpy as np\n"
      ],
      "metadata": {
        "id": "X-28Ck5cApys"
      },
      "execution_count": 11,
      "outputs": []
    },
    {
      "cell_type": "markdown",
      "source": [
        "### Creating an array"
      ],
      "metadata": {
        "id": "9EMR0r82AQQA"
      }
    },
    {
      "cell_type": "code",
      "source": [
        "#From a list\n",
        "simple_array = np.array([1, 2, 3])\n",
        "print(simple_array)"
      ],
      "metadata": {
        "colab": {
          "base_uri": "https://localhost:8080/"
        },
        "id": "t9EK1XsuBarT",
        "outputId": "fc5204cc-00fb-406e-e337-166e7048b94d"
      },
      "execution_count": 12,
      "outputs": [
        {
          "output_type": "stream",
          "name": "stdout",
          "text": [
            "[1 2 3]\n"
          ]
        }
      ]
    },
    {
      "cell_type": "code",
      "source": [
        "#2D Array\n",
        "twoD = np.array([[1, 2, 3], [4, 5, 6]])\n",
        "print(twoD)"
      ],
      "metadata": {
        "colab": {
          "base_uri": "https://localhost:8080/"
        },
        "id": "LeLCVU5WB7Wr",
        "outputId": "f29ee62b-7e7b-4a21-a86d-6afaf0d87e63"
      },
      "execution_count": 14,
      "outputs": [
        {
          "output_type": "stream",
          "name": "stdout",
          "text": [
            "[[1 2 3]\n",
            " [4 5 6]]\n"
          ]
        }
      ]
    },
    {
      "cell_type": "code",
      "source": [
        "#Creating a placeholder Array\n",
        "print(np.zeros((3, 3)))\n"
      ],
      "metadata": {
        "colab": {
          "base_uri": "https://localhost:8080/"
        },
        "id": "d0LmOZAbCwXO",
        "outputId": "ff082b9c-89e4-4901-86ee-44fe23084331"
      },
      "execution_count": 15,
      "outputs": [
        {
          "output_type": "stream",
          "name": "stdout",
          "text": [
            "[[0. 0. 0.]\n",
            " [0. 0. 0.]\n",
            " [0. 0. 0.]]\n"
          ]
        }
      ]
    },
    {
      "cell_type": "code",
      "source": [
        "#Creating intervals\n",
        "print(np.linspace(0, 1, 5))"
      ],
      "metadata": {
        "colab": {
          "base_uri": "https://localhost:8080/"
        },
        "id": "rrwZdkbfC_pl",
        "outputId": "0a1028f0-560a-4afd-c38e-e71bddc631b3"
      },
      "execution_count": 16,
      "outputs": [
        {
          "output_type": "stream",
          "name": "stdout",
          "text": [
            "[0.   0.25 0.5  0.75 1.  ]\n"
          ]
        }
      ]
    },
    {
      "cell_type": "code",
      "source": [
        "#For graph and interpolation\n",
        "print(np.linspace(0, 1, 5))\n"
      ],
      "metadata": {
        "colab": {
          "base_uri": "https://localhost:8080/"
        },
        "id": "pNhG24mCDL01",
        "outputId": "05510001-a1e0-4415-ed7f-7b408239e935"
      },
      "execution_count": 17,
      "outputs": [
        {
          "output_type": "stream",
          "name": "stdout",
          "text": [
            "[0.   0.25 0.5  0.75 1.  ]\n"
          ]
        }
      ]
    },
    {
      "cell_type": "markdown",
      "source": [
        "#Array Operations"
      ],
      "metadata": {
        "id": "rFgzPAX5Dn-p"
      }
    },
    {
      "cell_type": "code",
      "source": [
        "from binascii import b2a_uu\n",
        "a = np.array([1, 2, 3])\n",
        "b = np.array([4, 5, 6])\n",
        "\n",
        "print(a + b)\n",
        "print(a * b)\n",
        "# Scalar Product\n",
        "Scalar = np.dot(a, b)\n",
        "print(Scalar)\n",
        "\n",
        "mean = np.mean(a)\n",
        "print(\"MEAN value of array A is: \", mean)\n",
        "\n",
        "std = np.std(a)\n",
        "print(\"STD value of array A is: \", std)\n",
        "\n",
        "sum = np.sum(a)\n",
        "print(\"SUM value of array A is: \", sum)\n"
      ],
      "metadata": {
        "colab": {
          "base_uri": "https://localhost:8080/"
        },
        "id": "X42l0LURDvau",
        "outputId": "e595f0a9-ae80-44b3-87cb-0dfc79028a2d"
      },
      "execution_count": 20,
      "outputs": [
        {
          "output_type": "stream",
          "name": "stdout",
          "text": [
            "[5 7 9]\n",
            "[ 4 10 18]\n",
            "32\n",
            "MEAN value of array A is:  2.0\n",
            "STD value of array A is:  0.816496580927726\n",
            "SUM value of array A is:  6\n"
          ]
        }
      ]
    },
    {
      "cell_type": "markdown",
      "source": [
        "# Indexcing and Slicing"
      ],
      "metadata": {
        "id": "ITrrRiRMF8l-"
      }
    },
    {
      "cell_type": "code",
      "source": [
        "a = np.array([10, 20, 30, 40])\n",
        "print(print(a[1]))\n",
        "print(print(a[1:4]))"
      ],
      "metadata": {
        "colab": {
          "base_uri": "https://localhost:8080/"
        },
        "id": "WoLGg86oGCrB",
        "outputId": "7689f6bd-8588-4d3e-ebfa-ba9c4832b610"
      },
      "execution_count": 22,
      "outputs": [
        {
          "output_type": "stream",
          "name": "stdout",
          "text": [
            "20\n",
            "None\n",
            "[20 30 40]\n",
            "None\n"
          ]
        }
      ]
    },
    {
      "cell_type": "code",
      "source": [
        "b = np.array([[1, 2, 3], [4, 5, 6]])\n",
        "print(\"Acessing valuee on first array\", b[0,2])"
      ],
      "metadata": {
        "colab": {
          "base_uri": "https://localhost:8080/"
        },
        "id": "A5NOTZmmGmVg",
        "outputId": "b658c1d2-8d9d-49f2-b2a8-df2b7456eb95"
      },
      "execution_count": 23,
      "outputs": [
        {
          "output_type": "stream",
          "name": "stdout",
          "text": [
            "Acessing valuee on first array 3\n"
          ]
        }
      ]
    },
    {
      "cell_type": "markdown",
      "source": [
        "# Broadcasting"
      ],
      "metadata": {
        "id": "yEIhCHD7H53J"
      }
    },
    {
      "cell_type": "code",
      "source": [
        "a = np.array([1, 2, 3])\n",
        "print(a+2)"
      ],
      "metadata": {
        "colab": {
          "base_uri": "https://localhost:8080/"
        },
        "id": "RA7wJJ_UIEKj",
        "outputId": "61132c88-2a4d-4e4b-f2d2-ea7ff10b4701"
      },
      "execution_count": 24,
      "outputs": [
        {
          "output_type": "stream",
          "name": "stdout",
          "text": [
            "[3 4 5]\n"
          ]
        }
      ]
    },
    {
      "cell_type": "markdown",
      "source": [
        "# Practical Examples"
      ],
      "metadata": {
        "id": "jEj7pcpWIUbg"
      }
    },
    {
      "cell_type": "code",
      "source": [
        "# Temperature Conversion\n"
      ],
      "metadata": {
        "id": "KAeP2btlIZRr"
      },
      "execution_count": null,
      "outputs": []
    },
    {
      "cell_type": "code",
      "source": [
        "Celsius = np.array([0, 20, 40])\n",
        "fahrenheit = (Celsius * 9/5) + 32\n",
        "print(\"Celsius converted to Fahrenheit: \", fahrenheit)"
      ],
      "metadata": {
        "colab": {
          "base_uri": "https://localhost:8080/"
        },
        "id": "BeQMPjRMIjYj",
        "outputId": "b9d1d233-d1e2-48a0-f4b1-d434199e0434"
      },
      "execution_count": 25,
      "outputs": [
        {
          "output_type": "stream",
          "name": "stdout",
          "text": [
            "Celsius converted to Fahrenheit:  [ 32.  68. 104.]\n"
          ]
        }
      ]
    },
    {
      "cell_type": "markdown",
      "source": [
        "# Random Numbers\n"
      ],
      "metadata": {
        "id": "-BbapdygJAV3"
      }
    },
    {
      "cell_type": "code",
      "source": [
        "print(np.random.rand(5))\n"
      ],
      "metadata": {
        "colab": {
          "base_uri": "https://localhost:8080/"
        },
        "id": "aZBX3svvJELD",
        "outputId": "5a8b3efa-7965-49b2-884f-21fe2b197e50"
      },
      "execution_count": 26,
      "outputs": [
        {
          "output_type": "stream",
          "name": "stdout",
          "text": [
            "[0.80489437 0.10170612 0.84430292 0.10349211 0.45361343]\n"
          ]
        }
      ]
    },
    {
      "cell_type": "markdown",
      "source": [
        "# Creating a 3X3 identity Matrix"
      ],
      "metadata": {
        "id": "dbDgQmZaJLaL"
      }
    },
    {
      "cell_type": "code",
      "source": [
        "identity_matrix = np.eye(3)\n",
        "print(identity_matrix)"
      ],
      "metadata": {
        "colab": {
          "base_uri": "https://localhost:8080/"
        },
        "id": "wE71awtIJqhd",
        "outputId": "80eb1a80-b0a9-4a07-cf5a-07de1b0a1524"
      },
      "execution_count": 27,
      "outputs": [
        {
          "output_type": "stream",
          "name": "stdout",
          "text": [
            "[[1. 0. 0.]\n",
            " [0. 1. 0.]\n",
            " [0. 0. 1.]]\n"
          ]
        }
      ]
    },
    {
      "cell_type": "markdown",
      "source": [
        "### Generate a 100 random numbers and find their mean  and std deviation"
      ],
      "metadata": {
        "id": "6UjhhMUdKIVZ"
      }
    },
    {
      "cell_type": "code",
      "source": [
        "random_numbers = np.random.rand(100)\n",
        "mean = np.mean(random_numbers)\n",
        "std_dev = np.std(random_numbers)\n",
        "\n",
        "print(\"\\nGenerated 100 random numbers:\")\n",
        "print(random_numbers)\n",
        "print(\"\\nMean: {mean}\")\n",
        "print(\"Standard Deviation: {std_dev}\")"
      ],
      "metadata": {
        "colab": {
          "base_uri": "https://localhost:8080/"
        },
        "id": "MsDOZkHDKXZ9",
        "outputId": "7db3b9b0-9df3-4b3a-f70a-e318367f4ac8"
      },
      "execution_count": 29,
      "outputs": [
        {
          "output_type": "stream",
          "name": "stdout",
          "text": [
            "\n",
            "Generated 100 random numbers:\n",
            "[0.87772221 0.45904069 0.60090812 0.11606257 0.3452589  0.91464505\n",
            " 0.71673534 0.85068511 0.34474437 0.04964806 0.92493283 0.30740484\n",
            " 0.5713452  0.84251422 0.68514298 0.18839304 0.12045058 0.95226905\n",
            " 0.35192581 0.9653262  0.25043027 0.83635931 0.34763937 0.27716589\n",
            " 0.6600602  0.19135985 0.96188048 0.05167912 0.21218098 0.4543776\n",
            " 0.31155444 0.04725673 0.18657899 0.26786852 0.34250319 0.13756374\n",
            " 0.53932279 0.41502228 0.33141959 0.57868203 0.85114276 0.83468231\n",
            " 0.74025141 0.44451185 0.50559765 0.96116828 0.1935019  0.12660082\n",
            " 0.98467808 0.02153205 0.04469502 0.15088388 0.37161867 0.29210766\n",
            " 0.52248104 0.74969201 0.41370085 0.44721177 0.50283494 0.14521953\n",
            " 0.33615632 0.54668377 0.99366527 0.96011065 0.89232245 0.13431449\n",
            " 0.78231239 0.57987314 0.65530622 0.91296204 0.93567791 0.72429475\n",
            " 0.96727239 0.02767366 0.04333082 0.29910264 0.8286385  0.61886807\n",
            " 0.20797001 0.15010484 0.5767372  0.1845154  0.74150712 0.28563854\n",
            " 0.40441633 0.92345419 0.91384618 0.15324629 0.93410441 0.15706548\n",
            " 0.90497194 0.22565465 0.71953308 0.9324592  0.02067096 0.26215432\n",
            " 0.7663922  0.96878834 0.34715898 0.51641278]\n",
            "\n",
            "Mean: {mean}\n",
            "Standard Deviation: {std_dev}\n"
          ]
        }
      ]
    },
    {
      "cell_type": "markdown",
      "source": [
        "? Why Use Numpy Instead of plain Pyhon?"
      ],
      "metadata": {
        "id": "IxhLWyi4L4u-"
      }
    },
    {
      "cell_type": "markdown",
      "source": [
        "### Speed comparision"
      ],
      "metadata": {
        "id": "czl0tyrLMKYL"
      }
    },
    {
      "cell_type": "code",
      "source": [
        "import time\n",
        "# Phython way\n",
        "a = list(range(1_000_000)) # 1_000_000 is 1 million\n",
        "start = time.time()\n",
        "b = [x * 2 for x in a]\n",
        "print(\"Phython List: \", time.time() - start)\n",
        "\n",
        "#Numpy\n",
        "a = np.arange(1_000_000)\n",
        "start = time.time()\n",
        "b = a * 2\n",
        "print(\"Numpy:\", time.time() - start)\n"
      ],
      "metadata": {
        "colab": {
          "base_uri": "https://localhost:8080/"
        },
        "id": "l6JZooVHMWzc",
        "outputId": "ce1e03be-1f15-4fc1-83b4-59e99dfba0da"
      },
      "execution_count": 32,
      "outputs": [
        {
          "output_type": "stream",
          "name": "stdout",
          "text": [
            "Phython List:  0.06610751152038574\n",
            "Numpy: 0.018908023834228516\n"
          ]
        }
      ]
    },
    {
      "cell_type": "markdown",
      "source": [
        "## Cleaner Syntex"
      ],
      "metadata": {
        "id": "oGdl4cSWOBr7"
      }
    },
    {
      "cell_type": "code",
      "source": [
        "# python\n",
        "a = [1, 2, 3]\n",
        "b = [x + 5 for x in a]\n",
        "\n",
        "#Numpy\n",
        "a = np.array([1, 2, 3])\n",
        "b = a + 5\n"
      ],
      "metadata": {
        "colab": {
          "base_uri": "https://localhost:8080/",
          "height": 193
        },
        "id": "crwMmSuNOFWJ",
        "outputId": "f82754bb-30a8-4786-85e6-89dbe56087ab"
      },
      "execution_count": 5,
      "outputs": [
        {
          "output_type": "error",
          "ename": "NameError",
          "evalue": "name 'np' is not defined",
          "traceback": [
            "\u001b[0;31m---------------------------------------------------------------------------\u001b[0m",
            "\u001b[0;31mNameError\u001b[0m                                 Traceback (most recent call last)",
            "\u001b[0;32m/tmp/ipython-input-2383174043.py\u001b[0m in \u001b[0;36m<cell line: 0>\u001b[0;34m()\u001b[0m\n\u001b[1;32m      4\u001b[0m \u001b[0;34m\u001b[0m\u001b[0m\n\u001b[1;32m      5\u001b[0m \u001b[0;31m#Numpy\u001b[0m\u001b[0;34m\u001b[0m\u001b[0;34m\u001b[0m\u001b[0m\n\u001b[0;32m----> 6\u001b[0;31m \u001b[0ma\u001b[0m \u001b[0;34m=\u001b[0m \u001b[0mnp\u001b[0m\u001b[0;34m.\u001b[0m\u001b[0marray\u001b[0m\u001b[0;34m(\u001b[0m\u001b[0;34m[\u001b[0m\u001b[0;36m1\u001b[0m\u001b[0;34m,\u001b[0m \u001b[0;36m2\u001b[0m\u001b[0;34m,\u001b[0m \u001b[0;36m3\u001b[0m\u001b[0;34m]\u001b[0m\u001b[0;34m)\u001b[0m\u001b[0;34m\u001b[0m\u001b[0;34m\u001b[0m\u001b[0m\n\u001b[0m\u001b[1;32m      7\u001b[0m \u001b[0mb\u001b[0m \u001b[0;34m=\u001b[0m \u001b[0ma\u001b[0m \u001b[0;34m+\u001b[0m \u001b[0;36m5\u001b[0m\u001b[0;34m\u001b[0m\u001b[0;34m\u001b[0m\u001b[0m\n",
            "\u001b[0;31mNameError\u001b[0m: name 'np' is not defined"
          ]
        }
      ]
    },
    {
      "cell_type": "markdown",
      "source": [
        "## Memory Efficient"
      ],
      "metadata": {
        "id": "cuAbAcdhOpBJ"
      }
    },
    {
      "cell_type": "code",
      "source": [
        "import sys\n",
        "\n",
        "py_list = list(range(1000000))\n",
        "np_array = np.arange(1000000)\n",
        "\n",
        "print(sys.getsizeof(py_list))  # Larger\n",
        "print(np_array.nbytes)"
      ],
      "metadata": {
        "colab": {
          "base_uri": "https://localhost:8080/",
          "height": 211
        },
        "id": "M8NkCec9OkI-",
        "outputId": "6ef1ece4-9a05-41d5-cbd8-ec29394c6711"
      },
      "execution_count": 4,
      "outputs": [
        {
          "output_type": "error",
          "ename": "NameError",
          "evalue": "name 'np' is not defined",
          "traceback": [
            "\u001b[0;31m---------------------------------------------------------------------------\u001b[0m",
            "\u001b[0;31mNameError\u001b[0m                                 Traceback (most recent call last)",
            "\u001b[0;32m/tmp/ipython-input-417271132.py\u001b[0m in \u001b[0;36m<cell line: 0>\u001b[0;34m()\u001b[0m\n\u001b[1;32m      2\u001b[0m \u001b[0;34m\u001b[0m\u001b[0m\n\u001b[1;32m      3\u001b[0m \u001b[0mpy_list\u001b[0m \u001b[0;34m=\u001b[0m \u001b[0mlist\u001b[0m\u001b[0;34m(\u001b[0m\u001b[0mrange\u001b[0m\u001b[0;34m(\u001b[0m\u001b[0;36m1000000\u001b[0m\u001b[0;34m)\u001b[0m\u001b[0;34m)\u001b[0m\u001b[0;34m\u001b[0m\u001b[0;34m\u001b[0m\u001b[0m\n\u001b[0;32m----> 4\u001b[0;31m \u001b[0mnp_array\u001b[0m \u001b[0;34m=\u001b[0m \u001b[0mnp\u001b[0m\u001b[0;34m.\u001b[0m\u001b[0marange\u001b[0m\u001b[0;34m(\u001b[0m\u001b[0;36m1000000\u001b[0m\u001b[0;34m)\u001b[0m\u001b[0;34m\u001b[0m\u001b[0;34m\u001b[0m\u001b[0m\n\u001b[0m\u001b[1;32m      5\u001b[0m \u001b[0;34m\u001b[0m\u001b[0m\n\u001b[1;32m      6\u001b[0m \u001b[0mprint\u001b[0m\u001b[0;34m(\u001b[0m\u001b[0msys\u001b[0m\u001b[0;34m.\u001b[0m\u001b[0mgetsizeof\u001b[0m\u001b[0;34m(\u001b[0m\u001b[0mpy_list\u001b[0m\u001b[0;34m)\u001b[0m\u001b[0;34m)\u001b[0m  \u001b[0;31m# Larger\u001b[0m\u001b[0;34m\u001b[0m\u001b[0;34m\u001b[0m\u001b[0m\n",
            "\u001b[0;31mNameError\u001b[0m: name 'np' is not defined"
          ]
        }
      ]
    }
  ]
}